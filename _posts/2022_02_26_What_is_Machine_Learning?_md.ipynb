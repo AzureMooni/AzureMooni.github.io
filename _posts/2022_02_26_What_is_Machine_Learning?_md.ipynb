{
  "nbformat": 4,
  "nbformat_minor": 0,
  "metadata": {
    "colab": {
      "name": "2022-02-26-What is Machine Learning?.md",
      "provenance": [],
      "authorship_tag": "ABX9TyPKeZmOQFEayFbslkJ2obt/",
      "include_colab_link": true
    },
    "kernelspec": {
      "name": "python3",
      "display_name": "Python 3"
    },
    "language_info": {
      "name": "python"
    }
  },
  "cells": [
    {
      "cell_type": "markdown",
      "metadata": {
        "id": "view-in-github",
        "colab_type": "text"
      },
      "source": [
        "<a href=\"https://colab.research.google.com/github/AzureMooni/AzureMooni.github.io/blob/master/_posts/2022_02_26_What_is_Machine_Learning%3F_md.ipynb\" target=\"_parent\"><img src=\"https://colab.research.google.com/assets/colab-badge.svg\" alt=\"Open In Colab\"/></a>"
      ]
    },
    {
      "cell_type": "markdown",
      "source": [
        "###What is Machine Learning?\n",
        "#머신러닝이란 무엇인가?\n",
        "\n",
        "Standford univ. 에서 진행된 머신러닝 강의를 듣고 기록과 정리를 하고자 한다.\n",
        "\n"
      ],
      "metadata": {
        "id": "AtOYDBgZ48AG"
      }
    }
  ]
}